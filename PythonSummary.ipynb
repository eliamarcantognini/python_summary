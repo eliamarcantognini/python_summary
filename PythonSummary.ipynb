{
 "cells": [
  {
   "cell_type": "markdown",
   "id": "sophisticated-albuquerque",
   "metadata": {},
   "source": [
    "# Indentazione e blocchi di codice\n",
    "A differenza di altri linguaggi che delimitano blocchi di codice con parentesi grafe (come C, C++ e Java) o con parole riservate come begin/end, Python usa l'indentazione. Indentare il codice è una pratica comune in tutti i linguaggi, perché semplifica la lettura del codice e la compresione della sua struttura.  \n",
    "Questo significa che, in Python, l'indentazione è significativa, e che indentare in modo incorretto può portare a comportamenti sbagliati del programma o a errori."
   ]
  },
  {
   "cell_type": "markdown",
   "id": "respective-renewal",
   "metadata": {},
   "source": [
    "# Variabili\n",
    "\n",
    "Una variabile è considerabile come il contenitore di un dato. Per definire variabili in Python, è sufficiente utilizzare l'operatore di assegnamento (=) come nei seguenti esempi:"
   ]
  },
  {
   "cell_type": "code",
   "execution_count": 1,
   "id": "great-nation",
   "metadata": {},
   "outputs": [],
   "source": [
    "numero = 10\n",
    "stringa = \"Python\"\n",
    "lista = [1, 2, 3]"
   ]
  },
  {
   "cell_type": "markdown",
   "id": "excess-investigation",
   "metadata": {},
   "source": [
    "In python non è necessario dichiarare le variabili prima del loro utilizzo, né è necessario specificare il loro tipo di dato (numero, stringa, lista...).  \n",
    "In linguaggi come C, le variabili fanno riferimento a specifiche locazioni di memoria che hanno una dimensione fissa che dipende dal loro tipo (per questo è necessario specificare il tipo quando si dichiara una variabile). In Python invece, gli oggetti hanno un tipo specifico (numero, stringa, lista, etc.), e le variabili sono solo \"etichette\" che si si riferiscono a un determinato oggetto.\n",
    "Per capire meglio questo fondamentale concetto, possiamo vedere un semplice esempio."
   ]
  },
  {
   "cell_type": "code",
   "execution_count": 2,
   "id": "velvet-poland",
   "metadata": {},
   "outputs": [],
   "source": [
    "# Codice C \n",
    "# int x;\n",
    "# x = 10;\n",
    "# x = 20;\n",
    "\n",
    "# Codice Python\n",
    "x = 10\n",
    "x = 20"
   ]
  },
  {
   "cell_type": "markdown",
   "id": "rotary-graham",
   "metadata": {},
   "source": [
    "In questo codice C:\n",
    "\n",
    "- viene definita una variabile x di tipo int (cioè grande abbastanza per contenere un numero intero);\n",
    "- il valore 10 viene salvato nella locazione di memoria associata a x;\n",
    "- il valore 20 viene salvato nella locazione di memoria associata a x, sovrascrivendo il 10.\n",
    "\n",
    "Mentre nel codice Python:\n",
    "\n",
    "- l'oggetto 10 viene creato, e l'operazione di assegnamento fa in modo che la variabile x si riferisca a questo oggetto;\n",
    "- l'oggetto 20 viene creato, e la variabile/etichetta x viene \"spostata\" da 10 a 20;\n",
    "- siccome non ci sono più variabili che fanno riferimento all'oggetto 10, il garbage collector (un sistema automatico di \"pulizia\" della memoria) lo eliminirà automaticamente.\n",
    "\n",
    "In entrambi gli esempi, il valore finale associato con la variabile x sarà 20.\n",
    "\n",
    "Come abbiamo detto precedentemente, in Python le variabili non hanno tipo e possono riferirsi a qualsiasi tipo di oggetto. Il codice seguente è quindi perfettamente valido in Python:"
   ]
  },
  {
   "cell_type": "code",
   "execution_count": 3,
   "id": "invisible-washington",
   "metadata": {},
   "outputs": [],
   "source": [
    "x = 10\n",
    "x = \"Python\"\n",
    "x = [1, 2, 3]"
   ]
  },
  {
   "cell_type": "markdown",
   "id": "proud-operations",
   "metadata": {},
   "source": [
    "In questo esempio la variabile/etichetta x viene \"spostata\" dall'intero 10 alla stringa \"Python\", e infine alla lista [1, 2, 3]."
   ]
  },
  {
   "cell_type": "markdown",
   "id": "peaceful-stack",
   "metadata": {},
   "source": [
    "## Tipi di dato\n",
    "\n",
    "Python possiede sia i classici tipi di dato (int, float, bool, str, bytes), comuni alla maggior parte dei linguaggio di programmazione, ma anche diversi tipi più potenti e flessibili. Ecco una tabella che elenca alcuni dei tipi di dati più comuni in Python:\n",
    "\n",
    "| Tipo di dato | Nome | Descrizione | Esempi\n",
    "| --- | --- | --- | --- |\n",
    "|Intero\t|int|\tIntero di dimensione arbitraria\t|-42, 0, 1200, 999999999999999999 |\n",
    "|Reale\t|float\t|Numero a virgola mobile\t|3.14, 1.23e-10, 4.0E210|\n",
    "|Booleano\t|bool\t|Per valori veri o falsi\t|True, False|\n",
    "|Complesso\t|complex\t|Numeri complessi con parte reale e immaginaria\t|3+4j, 5.0+4.1j, 3j|\n",
    "|Stringhe\t|str\t|Usata per rappresentare testo\t|'', 'stefano', \"l'acqua\"|\n",
    "|Bytes\t|bytes\t|Usata per rappresentare bytes\t|b'', b'\\x00\\x01\\x02', b'Python'|\n",
    "|Liste\t|list\t|Una sequenza mutabile di oggetti\t|[], [1, 2, 3], ['Hello', 'World']|\n",
    "|Tuple\t|tuple\t|Una sequenza immutabile di oggetti|\t(), (1, 2, 3), ('Python', 3)|\n",
    "|Insiemi\t|set/frozenset\t|Un'insieme di oggetti unici|\t{1, 2, 3}, {'World', 'Hello'}|\n",
    "|Dizionari\t|dict\t|Una struttura che associa chiavi a valori|\t{}, {'nome': 'Ezio', 'cognome': 'Melotti'}|"
   ]
  },
  {
   "cell_type": "markdown",
   "id": "criminal-crash",
   "metadata": {},
   "source": [
    "## Nomi di variabile\n",
    "Per scegliere il nome di una variabile è utile seguire le convenzioni:\n",
    "- ogni nome di variabile deve iniziare con una lettera o con il carattere underscore (_), e può essere seguita da lettere, numeri, o underscore;\n",
    "- esistono delle parole riservate (keyword) che non possono essere utilizzate come nomi di variabili;\n",
    "- Python è un linguaggio case-sensitive, che distingue tra nomi di variabili composti da caratteri minuscoli e maiuscoli, quindi fare attenzione;"
   ]
  },
  {
   "cell_type": "markdown",
   "id": "bibliographic-addiction",
   "metadata": {},
   "source": [
    "## Assegnamento multiplo\n",
    "Una singolare possibilità offerta da Python è rappresentata dall’assegnamento multiplo, che permette di inizializzare più variabili direttamente sulla stessa riga di codice. Per capire quest’ultimo concetto, basta osservare l’esempio seguente:"
   ]
  },
  {
   "cell_type": "code",
   "execution_count": 4,
   "id": "acoustic-upper",
   "metadata": {},
   "outputs": [
    {
     "name": "stdout",
     "output_type": "stream",
     "text": [
      "a:  2\n",
      "b:  3\n",
      "c:  5\n"
     ]
    }
   ],
   "source": [
    "a, b, c = 2, 3, 5\n",
    "print(\"a: \", a) # a: 2\n",
    "print(\"b: \", b) # b: 3\n",
    "print(\"c: \", c) # c: 5"
   ]
  },
  {
   "cell_type": "markdown",
   "id": "fixed-functionality",
   "metadata": {},
   "source": [
    "# Commenti\n",
    "\n",
    "In python è possibile usare il carattere '#' per aggiungere commenti al codice."
   ]
  },
  {
   "cell_type": "code",
   "execution_count": 5,
   "id": "pediatric-audit",
   "metadata": {},
   "outputs": [],
   "source": [
    "# Questo è un commento\n",
    "# che prosegue anche in questa riga\n",
    "a = 3 # Anche questo è un commento"
   ]
  },
  {
   "cell_type": "markdown",
   "id": "verified-garbage",
   "metadata": {},
   "source": [
    "# Operatori aritmetici\n",
    "\n",
    "| Operatore | Descrizione | Esempio |\n",
    "| --- | --- | --- |\n",
    "| + | addizione | 3 + 5 -> 8 |\n",
    "| - | sottrazione | 5 - 3 -> 2 |\n",
    "| * | moltiplicazione | 5 * 3 -> 15 |\n",
    "| / | divisione | 9 / 4 -> 2.25 |\n",
    "| // | divisione intera | 9 // 4 -> 2 |\n",
    "| % | modulo (resto della divisione | 9 % 4 -> 1 |"
   ]
  },
  {
   "cell_type": "markdown",
   "id": "rental-academy",
   "metadata": {},
   "source": [
    "# Operatori di confronto\n",
    "| Operatore | Descrizione | Esempi |\n",
    "| --- | --- | --- |\n",
    "|==|\tuguale a\t|8 == 8 → True, 3 == 5 → False|\n",
    "|!=|\tdiverso da\t|3 != 5 → True, 8 != 8 → False|\n",
    "|<|\tminore di\t|3 < 5 → True, 5 < 3 → False|\n",
    "|<=|\tminore o uguale a\t|3 <= 5 → True, 8 <= 8 → True|\n",
    "|>|\tmaggiore di\t|5 > 3 → True, 3 > 5 → False|\n",
    "|>=|\tmaggiore o uguale a\t|5 >= 3 → True, 8 >= 8 → True|"
   ]
  },
  {
   "cell_type": "markdown",
   "id": "registered-sweden",
   "metadata": {},
   "source": [
    "# Operatori booleani\n",
    "\n",
    "| Operatore | Descrizione |\n",
    "| --- | --- |\n",
    "| and | Ritorna _True_ se entrambi gli operandi sono veri, altrimenti _False_ |\n",
    "| or | Ritorna _True_ se almeno uno degli operandi è vero, altrimenti _False_ |\n",
    "| not | Ritorna _False_ se l'operando è vero, _True_ se l'operando è falso |\n",
    "\n",
    "Quindi:\n",
    "- x AND y : vero _se e solo se_ entrambe le condizioni x e y sono vere.\n",
    "    - (3>0) AND (3<0) => FALSE\n",
    "    - (3>0) AND (3!=0) => TRUE\n",
    "- x OR y : vero se uno dei due (o entrambe) le condizioni x e y sono vere.\n",
    "    - (3>0) OR (3<0) => TRUE\n",
    "    - (3>0) OR (3!=0) => TRUE\n",
    "    - (3<0) OR (3!=3) => FALSE\n",
    "- NOT x : inverte la condizione x. Se x è falso, il risultato sarà vero.\n",
    "    - !(3>0) => FALSE\n",
    "    - !(!(3>0)) => TRUE"
   ]
  },
  {
   "cell_type": "markdown",
   "id": "spectacular-criminal",
   "metadata": {},
   "source": [
    "# Operatori binari\n",
    "Esistono poi gli operatori binari (o bitwise) che permettono di lavorare al livello dei singoli bit e sono utili in particolari circostanze:\n",
    "\n",
    "| Operatore | Descrizione |\n",
    "| --- | --- |\n",
    "| x << n|\tesegue uno shift a sinistra di n posizioni dei bit di x|\n",
    "|x >> n|\tesegue uno shift a destra di n posizioni dei bit di x|\n",
    "|x & y|\tesegue un and tra i bit di x e di y|\n",
    "|x | y|\tesegue un or tra i bit di x e di y|\n",
    "|x ^ y|\tesegue un or esclusivo tra i bit di x e di y|\n",
    "|~x|\tinverte i bit di x|"
   ]
  },
  {
   "cell_type": "markdown",
   "id": "positive-basic",
   "metadata": {},
   "source": [
    "# Stringhe e sequenze\n",
    "Abbiamo già visto che per dichiarare una stringa è sufficiente assengare ad una nuova variabile un testo racchiuso tra virgolette: è possibile racchiudere il suo valore indifferentemente tra apici (carattere ') o doppi apici (carattere \").  \n",
    "Le stringhe, così come le liste o le tuple, sono un tipo particolare di sequenze e perciò supportano tutte le operazioni comuni alle sequenze. Vediamone alcune."
   ]
  },
  {
   "cell_type": "markdown",
   "id": "south-planning",
   "metadata": {},
   "source": [
    "## Indexing e slicing\n",
    "In Python, è possibile accedere agli elementi di una sequenza, usando la sintassi sequenza[indice]. Questo restituirà l'elemento in posizione indice (il primo elemento ha sempre indice 0). È inoltre possibile specificare indici negativi che partono dalla fine della sequenza (l'ultimo elemento ha indice -1, il penultimo -2, ecc.). Questa operazione è chiamata indexing."
   ]
  },
  {
   "cell_type": "code",
   "execution_count": 6,
   "id": "imported-configuration",
   "metadata": {},
   "outputs": [
    {
     "data": {
      "text/plain": [
       "'t'"
      ]
     },
     "execution_count": 6,
     "metadata": {},
     "output_type": "execute_result"
    }
   ],
   "source": [
    "s = 'Python'\n",
    "s[0]  # elemento in posizione 0 (il primo) \n",
    "# 'P'\n",
    "s[5]  # elemento in posizione 5 (il sesto)\n",
    "# 'n'\n",
    "s[-1]  # elemento in posizione -1 (l'ultimo)\n",
    "# 'n'\n",
    "s[-4]  # elemento in posizione -4 (il quartultimo)\n",
    "# 't'"
   ]
  },
  {
   "cell_type": "markdown",
   "id": "desirable-cooking",
   "metadata": {},
   "source": [
    "La sintassi sequenza[inizio:fine] ci permette di ottenere una nuova sequenza dello stesso tipo che include tutti gli elementi partendo dall'indice inizio (incluso) all'indice fine (escluso). Se inizio è omesso, gli elementi verranno presi dall'inizio, se fine è omesso, gli elementi verranno presi fino alla fine. Questa operazione è chiamata slicing (letteralmente \"affettare\")."
   ]
  },
  {
   "cell_type": "code",
   "execution_count": 7,
   "id": "broadband-palace",
   "metadata": {},
   "outputs": [
    {
     "data": {
      "text/plain": [
       "'on'"
      ]
     },
     "execution_count": 7,
     "metadata": {},
     "output_type": "execute_result"
    }
   ],
   "source": [
    "s[0:2]  # sottostringa con elementi da 0 (incluso) a 2 (escluso)\n",
    "#'Py'\n",
    "s[:2]   # dall'inizio all'elemento con indice 2 (escluso)\n",
    "#'Py'\n",
    "s[3:5]  # dall'elemento con indice 3 (incluso) a 5 (escluso)\n",
    "#'ho'\n",
    "s[4:]   # dall'elemento con indice 4 (incluso) alla fine\n",
    "#'on'\n",
    "s[-2:]  # dall'elemento con indice -2 (incluso) alla fine\n",
    "#'on'"
   ]
  },
  {
   "cell_type": "markdown",
   "id": "indonesian-shakespeare",
   "metadata": {},
   "source": [
    "## Contenimento\n",
    "Gli operatori in e not in possono essere usati per verificare se un elemento fa parte di una sequenza o no. Nel caso delle stringhe, è anche possibile verificare se una sottostringa è contenuta in una stringa:"
   ]
  },
  {
   "cell_type": "code",
   "execution_count": 8,
   "id": "confirmed-china",
   "metadata": {},
   "outputs": [
    {
     "data": {
      "text/plain": [
       "False"
      ]
     },
     "execution_count": 8,
     "metadata": {},
     "output_type": "execute_result"
    }
   ],
   "source": [
    "'P' in s  # controlla se il carattere 'P' è contenuto nella stringa s\n",
    "# True\n",
    "'x' in s  # il carattere 'x' non è in s, quindi ritorna False\n",
    "# False\n",
    "'x' not in s  # \"not in\" esegue l'operazione inversa\n",
    "# True\n",
    "'Py' in s  # controlla se la sottostringa 'Py' è contenuto nella stringa s\n",
    "# True\n",
    "'py' in s  # il controllo è case-sensitive, quindi ritorna False\n",
    "# False"
   ]
  },
  {
   "cell_type": "markdown",
   "id": "ignored-breakdown",
   "metadata": {},
   "source": [
    "## Concatenamento, ripetizione e lunghezza\n",
    "È possibile usare l'operatore + per concatenare sequenze, e * per ripetere sequenze:"
   ]
  },
  {
   "cell_type": "code",
   "execution_count": 9,
   "id": "starting-lemon",
   "metadata": {},
   "outputs": [
    {
     "data": {
      "text/plain": [
       "'Banana'"
      ]
     },
     "execution_count": 9,
     "metadata": {},
     "output_type": "execute_result"
    }
   ],
   "source": [
    "'Py' + 'thon'\n",
    "# 'Python'\n",
    "'Py' * 2\n",
    "# 'PyPy'\n",
    "'Ba' + 'na' * 2\n",
    "# 'Banana'"
   ]
  },
  {
   "cell_type": "markdown",
   "id": "convinced-publicity",
   "metadata": {},
   "source": [
    "La funzione built-in len() può essere usata per ottenere il numero di elementi in una sequenza:"
   ]
  },
  {
   "cell_type": "code",
   "execution_count": 10,
   "id": "dying-patient",
   "metadata": {},
   "outputs": [
    {
     "data": {
      "text/plain": [
       "6"
      ]
     },
     "execution_count": 10,
     "metadata": {},
     "output_type": "execute_result"
    }
   ],
   "source": [
    "len('Python')"
   ]
  },
  {
   "cell_type": "markdown",
   "id": "seasonal-perry",
   "metadata": {},
   "source": [
    "# Funzioni e metodi\n",
    "Prima di procedere, è necessario fare una breve parentesi per spiegare la differenza tra funzioni e metodi.\n",
    "\n",
    "Abbiamo già visto alcune funzioni come len(). La funzioni accettano 0 o più argomenti e possono essere usate con oggetti di diversi tipi, usando la sintassi funzione(argomenti):"
   ]
  },
  {
   "cell_type": "code",
   "execution_count": 11,
   "id": "pursuant-coach",
   "metadata": {},
   "outputs": [
    {
     "data": {
      "text/plain": [
       "2"
      ]
     },
     "execution_count": 11,
     "metadata": {},
     "output_type": "execute_result"
    }
   ],
   "source": [
    "len('Python')  # lunghezza di una stringa\n",
    "# 6\n",
    "len(['PyPy', 'Jython', 'IronPython'])  # di una lista\n",
    "# 3\n",
    "len({'a': 3, 'b': 5})  # di un dizionario\n",
    "# 2"
   ]
  },
  {
   "cell_type": "markdown",
   "id": "obvious-circus",
   "metadata": {},
   "source": [
    "I metodi sono simili alle funzioni ma sono legati al tipo dell'oggetto e hanno una sintassi diversa: oggetto.metodo(argomenti). Così come le funzioni, i metodi possono accettare 0 o più argomenti:"
   ]
  },
  {
   "cell_type": "code",
   "execution_count": 12,
   "id": "loved-screw",
   "metadata": {},
   "outputs": [
    {
     "name": "stdout",
     "output_type": "stream",
     "text": [
      "PYTHON\n",
      "python\n"
     ]
    }
   ],
   "source": [
    "print(s.upper())  # il metodo upper ritorna una nuova stringa tutta uppercase\n",
    "# 'PYTHON'\n",
    "print(s.lower())  # il metodo lower ritorna una nuova stringa tutta lowercase\n",
    "# 'python'"
   ]
  },
  {
   "cell_type": "markdown",
   "id": "forward-jenny",
   "metadata": {},
   "source": [
    "In questo esempio potete vedere due metodi forniti dal tipo str, che non sono disponibili per altri tipi."
   ]
  },
  {
   "cell_type": "markdown",
   "id": "sharp-dating",
   "metadata": {},
   "source": [
    "## help() e dir()\n",
    "Due strumenti particolarmente utili per lavorare con funzioni e metodi sono le funzioni built-in help() e dir(). help(oggetto) restituisce una breve spiegazione riguardo all'oggetto passato come argomento. dir(oggetto) restituisce una lista di metodi e attributi dell'oggetto."
   ]
  },
  {
   "cell_type": "markdown",
   "id": "turkish-dancing",
   "metadata": {},
   "source": [
    "# Tuple"
   ]
  },
  {
   "cell_type": "markdown",
   "id": "weighted-henry",
   "metadata": {},
   "source": [
    "Python fornisce un tipo built-in chiamato tupla, che viene solitamente usato per rappresentare una sequenza immutabile di oggetti, in genere eterogenei.\n",
    "\n",
    "L'operatore che definisce le tuple è la virgola (,), anche se per evitare ambiguità la sequenze di elementi vengono spesso racchiuse tra parentesi tonde. In alcune espressioni, dove le virgole hanno già un significato diverso (ad esempio separare gli argomenti di una funzione), le parentesi sono necessarie."
   ]
  },
  {
   "cell_type": "code",
   "execution_count": 13,
   "id": "exciting-stereo",
   "metadata": {},
   "outputs": [
    {
     "name": "stdout",
     "output_type": "stream",
     "text": [
      "('abc', 123, 45.67)\n",
      "('abc',)\n",
      "()\n"
     ]
    },
    {
     "data": {
      "text/plain": [
       "0"
      ]
     },
     "execution_count": 13,
     "metadata": {},
     "output_type": "execute_result"
    }
   ],
   "source": [
    "t = 'abc', 123, 45.67  # la virgola crea la tupla\n",
    "print(t)  # la rappresentazione di una tupla include sempre le ()\n",
    "# ('abc', 123, 45.67)\n",
    "t = 'abc',  # tupla di un solo elemento\n",
    "print(t) # ('abc',)\n",
    "tv = ()  # tupla vuota, senza elementi\n",
    "print(tv) # ()\n",
    "type(tv)  # verifichiamo che sia una tupla\n",
    "# <class 'tuple'>\n",
    "len(tv)  # verifichiamo che abbia 0 elementi\n",
    "# 0"
   ]
  },
  {
   "cell_type": "markdown",
   "id": "romantic-rental",
   "metadata": {},
   "source": [
    "Le tuple sono un tipo di sequenza (come le strighe), e supportano le operazioni comuni a tutte le sequenze, come indexing, slicing, contenimento, concatenazione, e ripetizione.\n",
    "\n",
    "Le tuple sono immutabili, quindi una volta create non è possibile aggiungere, rimuovere, o modificare gli elementi.\n",
    "\n",
    "È anche possibile usare funzioni e metodi comuni a tutte le sequenze: len() per contare gli elementi, min() e max() per trovare l'elemento più piccolo/grande (a patto che i tipi degli elementi siano comparabili), .index() per trovare l'indice di un elemento, e .count() per contare quante volte un elemento è presente nella tupla:"
   ]
  },
  {
   "cell_type": "code",
   "execution_count": 14,
   "id": "pretty-michigan",
   "metadata": {},
   "outputs": [
    {
     "data": {
      "text/plain": [
       "2"
      ]
     },
     "execution_count": 14,
     "metadata": {},
     "output_type": "execute_result"
    }
   ],
   "source": [
    "len(('abc', 123, 45.67, 'xyz', 890))  # numero di elementi\n",
    "# 5\n",
    "min((4, 1, 7, 5))  # elemento più piccolo\n",
    "# 1\n",
    "max((4, 1, 7, 5))  # elemento più grande\n",
    "# 7\n",
    "t = ('a', 'b', 'c', 'b', 'a')\n",
    "t.index('c')  # indice dell'elemento 'c'\n",
    "# 2\n",
    "t.count('c')  # numero di occorrenze di 'c'\n",
    "# 1\n",
    "t.count('b')  # numero di occorrenze di 'b'\n",
    "# 2"
   ]
  },
  {
   "cell_type": "markdown",
   "id": "superior-flavor",
   "metadata": {},
   "source": [
    "# Liste\n",
    "\n",
    "Python fornisce anche un tipo built-in chiamato lista, che viene solitamente usato per rappresentare una sequenza mutabile di oggetti, in genere omogenei.\n",
    "\n",
    "Le liste vengono definite elencando tra parentesi quadre ([]) una serie di oggetti separati da virgole (,). È possibile creare una lista vuota usando le parentesi quadre senza nessun elemento all'interno."
   ]
  },
  {
   "cell_type": "code",
   "execution_count": 15,
   "id": "running-chapel",
   "metadata": {},
   "outputs": [
    {
     "name": "stdout",
     "output_type": "stream",
     "text": [
      "[0, 1, 2, 3]\n",
      "[]\n"
     ]
    }
   ],
   "source": [
    "nums = [0, 1, 2, 3]\n",
    "print(nums) # [0, 1, 2, 3]\n",
    "emptyList = []\n",
    "print(emptyList) # []"
   ]
  },
  {
   "cell_type": "markdown",
   "id": "attended-stationery",
   "metadata": {},
   "source": [
    "Così come le tuple e le stringhe, anche le liste sono un tipo di sequenza, e supportano quindi le operazioni comuni a tutte le sequenze, come indexing, slicing, contenimento, concatenazione, e ripetizione.  \n",
    "Le liste supportano anche funzioni e metodi comuni alle altre sequenze: len() per contare gli elementi, min() e max() per trovare l'elemento più piccolo/grande (a patto che i tipi degli elementi siano comparabili), .index() per trovare l'indice di un elemento, e .count() per contare quante volte un elemento è presente nella lista."
   ]
  },
  {
   "cell_type": "markdown",
   "id": "european-circle",
   "metadata": {},
   "source": [
    "A differenza di tuple e stringhe che sono immutabili, le liste possono essere mutate. È quindi possibile assegnare un nuovo valore agli elementi, rimuovere elementi usando la keyword del, o cambiare gli elementi usando uno dei metodi aggiuntivi delle liste:\n",
    "\n",
    "- lista.append(elem): aggiunge elem alla fine della lista;\n",
    "- lista.extend(seq): estende la lista aggiungendo alla fine gli elementi di seq;\n",
    "- lista.insert(indice, elem): aggiunge elem alla lista in posizione indice;\n",
    "- lista.pop(): rimuove e restituisce l'ultimo elemento della lista;\n",
    "- lista.remove(elem): trova e rimuove elem dalla lista;\n",
    "- lista.sort(): ordina gli elementi della lista dal più piccolo al più grande;\n",
    "- lista.reverse(): inverte l'ordine degli elementi della lista;\n",
    "- lista.copy(): crea e restituisce una copia della lista;\n",
    "- lista.clear(): rimuove tutti gli elementi della lista;\n",
    "\n",
    "Alcuni esempi:"
   ]
  },
  {
   "cell_type": "code",
   "execution_count": 16,
   "id": "forty-counter",
   "metadata": {},
   "outputs": [
    {
     "name": "stdout",
     "output_type": "stream",
     "text": [
      "['a', 'b', 'c', 'd']\n",
      "['a', 'b', 'c', 'd', 'e', 'f']\n",
      "['a', 'b', 'c', 'd', 'e', 'f', ['e', 'f']]\n",
      "['b', 'c', 'e']\n",
      "['e', 'c', 'b']\n",
      "['e', 'x', 'b']\n",
      "['e', 'b']\n",
      "[]\n"
     ]
    }
   ],
   "source": [
    "letters = ['a', 'b', 'c']\n",
    "letters.append('d') # aggiunge 'd' alla fine\n",
    "print(letters) # ['a', 'b', 'c', 'd']\n",
    "letters.extend(['e', 'f']) # aggiunge 'e' e 'f' alla fine\n",
    "print(letters) # ['a', 'b', 'c', 'd', 'e', 'f']\n",
    "letters.append(['e', 'f']) # aggiunge la lista come elemento alla fine\n",
    "print(letters) # ['a', 'b', 'c', 'd', 'e', 'f', ['e', 'f']]\n",
    "letters.pop() # rimuove e ritorna l'ultimo elemento (la lista)\n",
    "# ['e', 'f']\n",
    "letters.pop() # rimuove e ritorna l'ultimo elemento ('f')\n",
    "# 'f'\n",
    "letters.pop(0) # rimuove e ritorna l'elemento in posizione 0 ('a')\n",
    "# 'a'\n",
    "letters.remove('d') # rimuove l'elemento 'd'\n",
    "print(letters) # ['b', 'c', 'e']\n",
    "letters.reverse() # inverte l'ordine \"sul posto\" e non ritorna niente\n",
    "print(letters) # gli elementi sono ora in ordine inverso\n",
    "# ['e', 'c', 'b']\n",
    "letters[1] = 'x' # sostituisce l'elemento in posizione 1 ('c') con 'x'\n",
    "print(letters) # ['e', 'x', 'b']\n",
    "del letters[1] # rimuove l'elemento in posizione 1 ('x')\n",
    "print(letters) # ['e', 'b']\n",
    "letters.clear() # rimuove tutti gli elementi rimasti\n",
    "print(letters) # []"
   ]
  },
  {
   "cell_type": "markdown",
   "id": "blocked-confidentiality",
   "metadata": {},
   "source": [
    "## Differenza tra tuple e liste\n",
    "Anche se a prima vista le liste possono sembrare delle \"tuple mutabili\", in realtà vengono usate in situazioni diverse. Riassumiamo le differenze tra tuple e liste:\n",
    "\n",
    "| | tuple | liste |\n",
    "| --- | --- | --- |\n",
    "|Mutabilità|\timmutabili|\tmutabili|\n",
    "|Lunghezza|\tfissa|\tvariabile|\n",
    "|Accesso agli elementi avviene tramite|\tindexing|\titerazione|\n",
    "|Di solito contengono oggetti|\teterogenei|\tomogenei|\n",
    "|Simile in C al tipo di dati|\tstruct|\tarray|\n",
    "\n",
    "Dato che le tuple sono immutabili, la loro lunghezza è fissa, e in genere ogni elemento della tupla ha un ruolo preciso. Questi elementi, che possono essere di tipi diversi, in genere vengono letti tramite indexing (tupla[indice]).\n",
    "\n",
    "Le liste, invece, sono mutabili, quindi la loro lunghezza è variabile (elementi possono essere aggiunti o rimossi). Questo significa che gli elementi singoli non hanno un ruolo preciso e vengono in genere letti mediante iterazione (ad esempio usando un for), e perciò devono anche essere dello stesso tipo."
   ]
  },
  {
   "cell_type": "markdown",
   "id": "miniature-calcium",
   "metadata": {},
   "source": [
    "# Dizionari\n",
    "\n",
    "TBA."
   ]
  },
  {
   "cell_type": "markdown",
   "id": "alert-alcohol",
   "metadata": {},
   "source": [
    "# Set e frozenset\n",
    "\n",
    "TBA."
   ]
  },
  {
   "cell_type": "markdown",
   "id": "assisted-numbers",
   "metadata": {},
   "source": [
    "# Conversione tra tipi\n",
    "Al contrario di altri linguaggi come il C, dove il tipo di dato è legato alla variabile che lo contiene, In Python il tipo è legato all'oggetto stesso e non può essere cambiato. Questo vuol dire che non è possibile convertire (cast) una variabile o un oggetto da un tipo ad un altro. Dato che il tipo di un oggetto non può essere cambiato, in Python la conversione non modifica l'oggetto originale, ma ne crea di nuovi a partire da oggetti già esistenti.\n",
    "\n",
    "Questa operazione può essere effettuata passando l'oggetto che vogliamo convertire al tipo in cui lo vogliamo convertire. Ad esempio, se vogliamo convertire una stringa in numero, possiamo procedere come segue:"
   ]
  },
  {
   "cell_type": "code",
   "execution_count": 17,
   "id": "hidden-drove",
   "metadata": {},
   "outputs": [
    {
     "name": "stdout",
     "output_type": "stream",
     "text": [
      "<class 'float'>\n",
      "3.14\n"
     ]
    }
   ],
   "source": [
    "mystr = '3.14' # definisco una stringa\n",
    "myfloat = float(mystr) # creo un nuovo float a partire dalla stringa\n",
    "print(type(myfloat)) # ho un float che corrisponde al numero scritto nella stringa\n",
    "print(myfloat)"
   ]
  },
  {
   "cell_type": "markdown",
   "id": "fundamental-issue",
   "metadata": {},
   "source": [
    "Ogni tipo accetta diversi input, ma non tutte le conversioni sono possibili. Ad esempio, non è possibile convertire una lista in intero, o un intero in lista."
   ]
  },
  {
   "cell_type": "markdown",
   "id": "integrated-shuttle",
   "metadata": {},
   "source": [
    "# Teorema Bohm-Jacopini\n",
    "\n",
    "Il teorema di Böhm-Jacopini, enunciato nel 1966 dagli informatici Corrado Böhm e Giuseppe Jacopini, afferma che \"qualunque algoritmo può essere realizzato utilizzando le sole tre strutture di controllo fondamentali: la sequenza, la selezione ed il ciclo\"."
   ]
  },
  {
   "cell_type": "markdown",
   "id": "cardiac-review",
   "metadata": {},
   "source": [
    "## Sequenza\n",
    "\n",
    "La sequenza stabilisce l'ordine in cui le istruzioni presenti nel testo del programma devono essere eseguite. Generalmente, top-down."
   ]
  },
  {
   "cell_type": "markdown",
   "id": "extended-envelope",
   "metadata": {},
   "source": [
    "## Selezione\n",
    "\n",
    "Anche detta __struttura condizionale__, è una struttura di controllo che indica all'elaboratore, in base alla verifica di una condizione logica specificata, quale fra due sequenze o blocchi di istruzioni eseguire. Realizza dunque un controllo logico.\n",
    "\n",
    "### If-elif-else\n",
    "\n",
    "Il costrutto if-elif-else permette di eseguire istruzioni o gruppi di istruzioni diverse a seconda del verificarsi di una o più condizioni.\n",
    "\n",
    "La forma più semplice prevede l'uso di un __if__ seguito da una condizione, dai due punti (:) e da un blocco di codice indentato che viene eseguito solo se la condizione è vera:\n"
   ]
  },
  {
   "cell_type": "code",
   "execution_count": 18,
   "id": "streaming-trainer",
   "metadata": {},
   "outputs": [
    {
     "name": "stdout",
     "output_type": "stream",
     "text": [
      "ciao!\n"
     ]
    }
   ],
   "source": [
    "condizione = 3 > 0 # Qualsiasi condizione\n",
    "if condizione:\n",
    "    print('ciao!')\n",
    "    # gruppo di istruzioni eseguite \n",
    "    # se la condizione è vera\n",
    "    \n",
    "# output: ciao!"
   ]
  },
  {
   "cell_type": "markdown",
   "id": "intelligent-grocery",
   "metadata": {},
   "source": [
    "Per esempio, per calcolare il valore assoluto di un numero, possiamo procedere così:"
   ]
  },
  {
   "cell_type": "code",
   "execution_count": 19,
   "id": "recorded-anchor",
   "metadata": {},
   "outputs": [
    {
     "name": "stdout",
     "output_type": "stream",
     "text": [
      "Inserisci un numero: -35\n",
      "Il valore assoluto è 35\n"
     ]
    }
   ],
   "source": [
    "n = int(input('Inserisci un numero: '))\n",
    "if n < 0: # se il numero è negativo\n",
    "    n = -n # rendilo positivo\n",
    "print('Il valore assoluto è', n)"
   ]
  },
  {
   "cell_type": "markdown",
   "id": "later-channel",
   "metadata": {},
   "source": [
    "In questo caso il blocco di codice indentato sotto l'if (cioè n = -n) è eseguito solo se il numero è negativo. Se il numero è invece positivo, il programma procede ad eseguire l'istruzione che segue l'if, cioè il print().\n",
    "\n",
    "Aggiungendo un __else__ seguito dai due punti (:) possiamo anche specificare un blocco di codice eseguito quando la condizione dell'if è falsa:"
   ]
  },
  {
   "cell_type": "code",
   "execution_count": 20,
   "id": "elder-alabama",
   "metadata": {},
   "outputs": [
    {
     "name": "stdout",
     "output_type": "stream",
     "text": [
      "ciaoF!\n"
     ]
    }
   ],
   "source": [
    "condizione = 3 == 0\n",
    "if condizione:\n",
    "    print('ciaoV!')\n",
    "    # gruppo di istruzioni eseguite\n",
    "    # se la condizione è vera\n",
    "else:\n",
    "    print('ciaoF!')\n",
    "    # gruppo di istruzioni eseguite\n",
    "    # se la condizione è falsa\n",
    "    \n",
    "# output: ciaoF!"
   ]
  },
  {
   "cell_type": "markdown",
   "id": "quick-blink",
   "metadata": {},
   "source": [
    "In questo caso Python eseguirà il primo blocco se la condizione è vera, oppure il secondo blocco se la condizione è falsa. Ad esempio:"
   ]
  },
  {
   "cell_type": "code",
   "execution_count": 21,
   "id": "moral-crack",
   "metadata": {},
   "outputs": [
    {
     "name": "stdout",
     "output_type": "stream",
     "text": [
      "Inserisci un numero: 12\n",
      "12 è positivo\n"
     ]
    }
   ],
   "source": [
    "n = int(input('Inserisci un numero: '))\n",
    "if n < 0: # se il numero è negativo\n",
    "    print(n, 'è negativo')\n",
    "else: # altrimenti (se non è negativo)\n",
    "    print(n, 'è positivo')"
   ]
  },
  {
   "cell_type": "markdown",
   "id": "intimate-percentage",
   "metadata": {},
   "source": [
    "In questo caso il programma eseguirà uno dei due print(): il primo se il numero inserito dall'utente è negativo, il secondo se invece è positivo.\n",
    "\n",
    "È infine possibile aggiungere 1 o più __elif__, ognuno seguito da una condizione, dai due punti (:) e da un blocco di codice indentato che viene eseguito solo se la condizione è vera. È anche possibile aggiungere un singolo else alla fine che viene eseguito se tutte le condizioni precedenti sono false:"
   ]
  },
  {
   "cell_type": "code",
   "execution_count": 22,
   "id": "tested-czech",
   "metadata": {},
   "outputs": [
    {
     "name": "stdout",
     "output_type": "stream",
     "text": [
      "ciaoN!\n"
     ]
    }
   ],
   "source": [
    "condizione1 = 0 == 3\n",
    "condizione2 = 2 > 12\n",
    "condizioneN = 3 <= 21\n",
    "if condizione1:\n",
    "    print('ciao1!')\n",
    "    # gruppo di istruzioni eseguite\n",
    "    # se la condizione1 è vera\n",
    "elif condizione2:\n",
    "    print('ciao2!')\n",
    "    # gruppo di istruzioni eseguite\n",
    "    # se la condizione2 è vera\n",
    "elif condizioneN:\n",
    "    print('ciaoN!')\n",
    "    # gruppo di istruzioni eseguite\n",
    "    # se la condizioneN è vera\n",
    "else:\n",
    "    print('ciaoE!')\n",
    "    # gruppo di istruzioni eseguite\n",
    "    # se tutte le condizioni sono false\n",
    "    \n",
    "# output: ciaoN!"
   ]
  },
  {
   "cell_type": "markdown",
   "id": "sudden-painting",
   "metadata": {},
   "source": [
    "Si noti che solo uno di questi blocchi viene eseguito: se una delle condizioni è vera, il blocco corrispondente viene eseguito; se invece tutte le condizioni sono false e un else è presente, solo il blocco dell'else viene eseguito. Nel caso ci siano più condizioni vere, verrà eseguito solo il blocco corrispondente alla prima condizione vera."
   ]
  },
  {
   "cell_type": "code",
   "execution_count": 23,
   "id": "animal-reggae",
   "metadata": {},
   "outputs": [
    {
     "name": "stdout",
     "output_type": "stream",
     "text": [
      "Inserisci un numero: 12\n",
      "12 è positivo\n"
     ]
    }
   ],
   "source": [
    "n = int(input('Inserisci un numero: '))\n",
    "if n < 0:\n",
    "    print(n, 'è negativo')\n",
    "elif n > 0:\n",
    "    print(n, 'è positivo')\n",
    "else:\n",
    "    print(n, 'è zero')"
   ]
  },
  {
   "cell_type": "markdown",
   "id": "offensive-happiness",
   "metadata": {},
   "source": [
    "Questo programma usa if ed elif per verificare rispettivamente se il numero inserito dall'utente è negativo o positivo. Se entrambe le condizioni sono false (cioè quando il numero è uguale a 0), l'else viene eseguito."
   ]
  },
  {
   "cell_type": "markdown",
   "id": "young-document",
   "metadata": {},
   "source": [
    "## Iterazione"
   ]
  },
  {
   "cell_type": "markdown",
   "id": "assumed-importance",
   "metadata": {},
   "source": [
    "l'iterazione, chiamata anche ciclo o con il termine inglese loop, è una struttura di controllo, all'interno di un algoritmo risolutivo di un problema dato, che ordina all'elaboratore di eseguire ripetutamente una sequenza di istruzioni, solitamente fino al verificarsi di particolari condizioni logiche specificate. In Python esistono:\n",
    "\n",
    "- il ciclo __for__: esegue unietarzione per ogni elemento di un oggetto iterabile;\n",
    "- il ciclo __while__: itera fintanto che una condizione è vera."
   ]
  },
  {
   "cell_type": "markdown",
   "id": "large-synthesis",
   "metadata": {},
   "source": [
    "### Ciclo for\n",
    "\n",
    "Il ciclo for ci permette di iterare su tutti gli elementi di un iterabile ed eseguire un determinato blocco di codice. Un iterabile è un qualsiasi oggetto in grado di restituire tutti gli elementi uno dopo l'altro, come ad esempio liste, tuple, set, dizionari (restituiscono le chiavi), ecc.\n",
    "\n",
    "Vediamo un semplice esempio di ciclo for:"
   ]
  },
  {
   "cell_type": "code",
   "execution_count": 24,
   "id": "accurate-barbados",
   "metadata": {},
   "outputs": [
    {
     "name": "stdout",
     "output_type": "stream",
     "text": [
      "Il quadrato di 1 è 1\n",
      "Il quadrato di 2 è 4\n",
      "Il quadrato di 3 è 9\n",
      "Il quadrato di 4 è 16\n",
      "Il quadrato di 5 è 25\n"
     ]
    }
   ],
   "source": [
    "# stampa il quadrato di ogni numero di seq\n",
    "seq = [1, 2, 3, 4, 5]\n",
    "for n in seq:\n",
    "    print('Il quadrato di', n, 'è', n**2)\n",
    "\n",
    "# output:\n",
    "# Il quadrato di 1 è 1\n",
    "# Il quadrato di 2 è 4\n",
    "# Il quadrato di 3 è 9\n",
    "# Il quadrato di 4 è 16\n",
    "# Il quadrato di 5 è 25"
   ]
  },
  {
   "cell_type": "markdown",
   "id": "weighted-optics",
   "metadata": {},
   "source": [
    "Possiamo notare che:\n",
    "\n",
    "- il ciclo for è introdotto dalla keyword for, seguita da una variabile, dalla keyword in, da un iterabile, e infine dai due punti (:);\n",
    "- dopo i due punti è presente un blocco di codice indentato (che può anche essere formato da più righe);\n",
    "- il ciclo for itera su tutti gli elementi della sequenza, li assegna alla variabile n, ed esegue il blocco di codice;\n",
    "- in questo esempio la variabile n assumerà i valori di 1, 2, 3, 4, e 5 e per ogni valore stamperà il quadrato;\n",
    "- una volta che il blocco di codice è stato eseguito per tutti i valori, il ciclo for termina.\n",
    "\n",
    "Il seguente esempio mostra come sia possibile usare un if all'interno di un ciclo for:"
   ]
  },
  {
   "cell_type": "code",
   "execution_count": 25,
   "id": "close-preservation",
   "metadata": {},
   "outputs": [
    {
     "name": "stdout",
     "output_type": "stream",
     "text": [
      "Il numero 1 è dispari\n",
      "Il numero 2 è pari\n",
      "Il numero 3 è dispari\n",
      "Il numero 4 è pari\n",
      "Il numero 5 è dispari\n"
     ]
    }
   ],
   "source": [
    "# determina se i numeri di seq sono pari o dispari\n",
    "seq = [1, 2, 3, 4, 5]\n",
    "for n in seq:\n",
    "    print('Il numero', n, 'è', end=' ')\n",
    "    if n%2 == 0:\n",
    "        print('pari')\n",
    "    else:\n",
    "        print('dispari')\n",
    "        \n",
    "# output\n",
    "# Il numero 1 è dispari\n",
    "# Il numero 2 è pari\n",
    "# Il numero 3 è dispari\n",
    "# Il numero 4 è pari\n",
    "# Il numero 5 è dispari"
   ]
  },
  {
   "cell_type": "markdown",
   "id": "sonic-context",
   "metadata": {},
   "source": [
    "#### Range\n",
    "\n",
    "Dato che spesso accade di voler lavorare su sequenze di numeri, Python fornisce una funzione built-in chiamata range che permette di specificare uno valore iniziale o start (incluso), un valore finale o stop (escluso), e uno step, e che ritorna una sequenza di numeri interi. Questa funzione è particolarmente utile se combinata con il ciclo for:"
   ]
  },
  {
   "cell_type": "code",
   "execution_count": 26,
   "id": "trying-bleeding",
   "metadata": {},
   "outputs": [
    {
     "name": "stdout",
     "output_type": "stream",
     "text": [
      "Il quadrato di 1 è 1\n",
      "Il quadrato di 2 è 4\n",
      "Il quadrato di 3 è 9\n",
      "Il quadrato di 4 è 16\n",
      "Il quadrato di 5 è 25\n"
     ]
    }
   ],
   "source": [
    "for n in range(1, 6):\n",
    "    print('Il quadrato di', n, 'è', n**2)\n",
    "\n",
    "# output:\n",
    "# Il quadrato di 1 è 1\n",
    "# Il quadrato di 2 è 4\n",
    "# Il quadrato di 3 è 9\n",
    "# Il quadrato di 4 è 16\n",
    "# Il quadrato di 5 è 25"
   ]
  },
  {
   "cell_type": "markdown",
   "id": "equipped-armenia",
   "metadata": {},
   "source": [
    "### Ciclo while\n",
    "\n",
    "Il ciclo while itera fintanto che una condizione è vera:"
   ]
  },
  {
   "cell_type": "code",
   "execution_count": 27,
   "id": "marked-province",
   "metadata": {},
   "outputs": [
    {
     "name": "stdout",
     "output_type": "stream",
     "text": [
      "60\n",
      "50\n",
      "40\n",
      "[10, 20, 30]\n"
     ]
    }
   ],
   "source": [
    "# rimuovi e printa numeri da seq finchè ne rimangono solo 3\n",
    "seq = [10, 20, 30, 40, 50, 60]\n",
    "while len(seq) > 3:\n",
    "    print(seq.pop())\n",
    "print(seq)\n",
    "\n",
    "# output:\n",
    "# 60\n",
    "# 50\n",
    "# 40\n",
    "# [10, 20, 30]"
   ]
  },
  {
   "cell_type": "markdown",
   "id": "precious-beijing",
   "metadata": {},
   "source": [
    "Possiamo notare che:\n",
    "\n",
    "- il ciclo while è introdotto dalla keyword while, seguita da una condizione (len(seq) > 3) e dai due punti (:);\n",
    "- dopo i due punti è presente un blocco di codice indentato (che può anche essere formato da più righe);\n",
    "- il ciclo while esegue il blocco di codice fintanto che la condizione è vera;\n",
    "- in questo caso rimuove e stampa gli elementi di seq fintanto che in seq ci sono più di 3 elementi;\n",
    "- una volta che la sequenza è rimasta con solo 3 elementi, la condizione len(seq) > 3 diventa falsa e il ciclo termina."
   ]
  },
  {
   "cell_type": "markdown",
   "id": "impressed-difficulty",
   "metadata": {},
   "source": [
    "### break e continue\n",
    "\n",
    "Python prevede 2 costrutti che possono essere usati nei cicli for e while:\n",
    "\n",
    "- __break__: interrompe il ciclo;\n",
    "- __continue__: interrompe l'iterazione corrente e procede alla successiva.\n",
    "\n",
    "Ad esempio, possiamo usare un ciclo for per cercare un elemento in una lista e interrompere la ricerca appena l'elemento viene trovato:"
   ]
  },
  {
   "cell_type": "code",
   "execution_count": 28,
   "id": "separated-textbook",
   "metadata": {},
   "outputs": [
    {
     "name": "stdout",
     "output_type": "stream",
     "text": [
      "Sto controllando alpha\n",
      "Sto controllando beta\n",
      "Sto controllando gamma\n",
      "Elemento trovato!\n"
     ]
    }
   ],
   "source": [
    "seq = ['alpha', 'beta', 'gamma', 'delta']\n",
    "for elem in seq:\n",
    "    print('Sto controllando', elem)\n",
    "    if elem == 'gamma':\n",
    "        print('Elemento trovato!')\n",
    "        break  # elemento trovato, interrompi il ciclo\n",
    "        \n",
    "# output\n",
    "# Sto controllando alpha\n",
    "# Sto controllando beta\n",
    "# Sto controllando gamma\n",
    "# Elemento trovato!"
   ]
  },
  {
   "cell_type": "markdown",
   "id": "shaped-snowboard",
   "metadata": {},
   "source": [
    "Non appena il ciclo raggiunge l'elemento 'gamma', la condizione dell'if diventa vera e il break interrompe il ciclo for. Dall'output si può vedere che 'delta' non viene controllato."
   ]
  },
  {
   "cell_type": "markdown",
   "id": "regional-speaker",
   "metadata": {},
   "source": [
    "Nell'esempio successivo, invece, usiamo continue per \"saltare\" le parole che hanno 5 lettere. Dall'output si può vedere che la condizione dell'if è vera per 'alpha', 'gamma', e 'delta', e in questi casi l'iterazione procede immediatamente con l'elemento successivo senza eseguire il print. Solo nel caso di 'beta' (che ha 4 lettere), il continue non viene eseguito e l'elemento viene stampato."
   ]
  },
  {
   "cell_type": "code",
   "execution_count": 29,
   "id": "creative-intersection",
   "metadata": {},
   "outputs": [
    {
     "name": "stdout",
     "output_type": "stream",
     "text": [
      "beta\n"
     ]
    }
   ],
   "source": [
    "seq = ['alpha', 'beta', 'gamma', 'delta']\n",
    "for elem in seq:\n",
    "    if len(elem) == 5:\n",
    "        continue  # procedi all'elemento successivo\n",
    "    print(elem)\n",
    "    \n",
    "# output: beta"
   ]
  },
  {
   "cell_type": "markdown",
   "id": "reserved-agriculture",
   "metadata": {},
   "source": [
    "### for-else e while-else\n",
    "\n",
    "TBA."
   ]
  },
  {
   "cell_type": "markdown",
   "id": "parental-printing",
   "metadata": {},
   "source": [
    "# List/Set/Dict Comprehension\n",
    "\n",
    "TBA."
   ]
  },
  {
   "cell_type": "markdown",
   "id": "hundred-spider",
   "metadata": {},
   "source": [
    "# Input - Output (I/O)\n",
    "\n",
    "Come si è già visto negli esempi sopra, per avere dell'input si usa la funzione __input()__ mentre per stampre in output su usa la funzione __print()__. Ad esempio:"
   ]
  },
  {
   "cell_type": "code",
   "execution_count": 30,
   "id": "working-brass",
   "metadata": {},
   "outputs": [
    {
     "name": "stdout",
     "output_type": "stream",
     "text": [
      "Scrivi qualcosa!\n",
      "Ciao amici!\n",
      "Hai scritto:  Ciao amici!\n"
     ]
    }
   ],
   "source": [
    "inp = input(\"Scrivi qualcosa!\\n\")\n",
    "print(\"Hai scritto: \", inp)"
   ]
  },
  {
   "cell_type": "markdown",
   "id": "comfortable-actress",
   "metadata": {},
   "source": [
    "# Funzioni"
   ]
  },
  {
   "cell_type": "markdown",
   "id": "discrete-mounting",
   "metadata": {},
   "source": [
    "Le funzioni sono uno strumento che ci permette di raggruppare un insieme di istruzioni che eseguono un compito specifico. Le funzioni accettano in input 0 o più argomenti (o parametri), li elaborano, e restituiscono in output un risultato.\n",
    "\n",
    "Una volta definita una funzione, è possibile eseguirla (operazione cui ci si riferisce spesso con la locuzione 'chiamata di funzione'), passando argomenti diversi a seconda della situazione. Questo ci permette di rendere il codice più ordinato ed evitare ripetizioni."
   ]
  },
  {
   "cell_type": "markdown",
   "id": "finished-border",
   "metadata": {},
   "source": [
    "## Definire funzione\n",
    "\n",
    "La sintassi per definire funzioni è molto semplice. Ad esempio possiamo definire una funzione che ritorna True se un numero è pari o False se è dispari:"
   ]
  },
  {
   "cell_type": "code",
   "execution_count": 31,
   "id": "friendly-trader",
   "metadata": {},
   "outputs": [],
   "source": [
    "def is_even(n):\n",
    "    if n % 2 == 0:\n",
    "        return True\n",
    "    else:\n",
    "        return False"
   ]
  },
  {
   "cell_type": "markdown",
   "id": "satellite-mumbai",
   "metadata": {},
   "source": [
    "Possiamo notare che:\n",
    "\n",
    "- la funzione è introdotta dalla parola chiave def;\n",
    "- dopo il def appare il nome della funzione, in questo caso is_even;\n",
    "- dopo il nome della funzione viene specificata tra parentesi tonde la lista dei parametri accettati dalla funzione;\n",
    "- dopo la lista dei parametri ci sono i due punti (:) che introducono un blocco di codice indentato;\n",
    "- il blocco di codice può contenere diverse istruzioni e 0 o più return.\n",
    "\n",
    "Quando chiamiamo questa funzione possiamo passare un numero qualsiasi che verrà assegnato a n. Il corpo della funzione viene poi eseguito e, a seconda del valore di n, la funzione ritorna True se il numero è pari o False se è dispari:"
   ]
  },
  {
   "cell_type": "code",
   "execution_count": 32,
   "id": "athletic-produce",
   "metadata": {},
   "outputs": [
    {
     "data": {
      "text/plain": [
       "True"
      ]
     },
     "execution_count": 32,
     "metadata": {},
     "output_type": "execute_result"
    }
   ],
   "source": [
    "is_even(4) # True"
   ]
  },
  {
   "cell_type": "code",
   "execution_count": 33,
   "id": "isolated-myanmar",
   "metadata": {},
   "outputs": [
    {
     "data": {
      "text/plain": [
       "False"
      ]
     },
     "execution_count": 33,
     "metadata": {},
     "output_type": "execute_result"
    }
   ],
   "source": [
    "is_even(5) # False"
   ]
  },
  {
   "cell_type": "code",
   "execution_count": 34,
   "id": "detailed-coast",
   "metadata": {},
   "outputs": [
    {
     "data": {
      "text/plain": [
       "False"
      ]
     },
     "execution_count": 34,
     "metadata": {},
     "output_type": "execute_result"
    }
   ],
   "source": [
    "is_even(-7) # False"
   ]
  },
  {
   "cell_type": "markdown",
   "id": "fabulous-place",
   "metadata": {},
   "source": [
    "È anche possibile documentare una funzione usando una docstring, cioè una stringa (in genere racchiusa tra \"\"\"...\"\"\") che si trova come prima istruzione all'interno di una funzione:"
   ]
  },
  {
   "cell_type": "code",
   "execution_count": 35,
   "id": "aware-albuquerque",
   "metadata": {},
   "outputs": [],
   "source": [
    "def is_even(n):\n",
    "    \"\"\"Return True if n is even, False otherwise.\"\"\"\n",
    "    if n % 2 == 0:\n",
    "        return True\n",
    "    else:\n",
    "        return False"
   ]
  },
  {
   "cell_type": "markdown",
   "id": "vietnamese-broad",
   "metadata": {},
   "source": [
    "La funzione builtin help() è in grado di estrarre e mostrare questa stringa automaticamente:"
   ]
  },
  {
   "cell_type": "code",
   "execution_count": 36,
   "id": "offshore-premises",
   "metadata": {},
   "outputs": [
    {
     "name": "stdout",
     "output_type": "stream",
     "text": [
      "Help on function is_even in module __main__:\n",
      "\n",
      "is_even(n)\n",
      "    Return True if n is even, False otherwise.\n",
      "\n"
     ]
    }
   ],
   "source": [
    "help(is_even)\n",
    "\n",
    "# output:\n",
    "# Help on function is_even in module __main__:\n",
    "#\n",
    "# is_even(n)\n",
    "#     Return True if n is even, False otherwise."
   ]
  },
  {
   "cell_type": "markdown",
   "id": "baking-technical",
   "metadata": {},
   "source": [
    "## Passaggio di argomenti (o parametri)\n",
    "\n",
    "Prima di vedere più in dettaglio come definire una funzione, è utile approfondire il passaggio di argomenti. Quando una funzione viene chiamata, è possibile passare 0 o più argomenti. Questi argomenti possono essere passati per posizione o per nome:"
   ]
  },
  {
   "cell_type": "code",
   "execution_count": 37,
   "id": "sapphire-islam",
   "metadata": {},
   "outputs": [],
   "source": [
    "def calc_rect_area(width, height):\n",
    "    \"\"\"Return the area of the rectangle.\"\"\"\n",
    "    return width * height"
   ]
  },
  {
   "cell_type": "code",
   "execution_count": 38,
   "id": "accepted-headline",
   "metadata": {},
   "outputs": [
    {
     "data": {
      "text/plain": [
       "15"
      ]
     },
     "execution_count": 38,
     "metadata": {},
     "output_type": "execute_result"
    }
   ],
   "source": [
    "calc_rect_area(3, 5) # width = 3, height = 5 \n",
    "# output: 15"
   ]
  },
  {
   "cell_type": "code",
   "execution_count": 39,
   "id": "corporate-zoning",
   "metadata": {},
   "outputs": [
    {
     "data": {
      "text/plain": [
       "15"
      ]
     },
     "execution_count": 39,
     "metadata": {},
     "output_type": "execute_result"
    }
   ],
   "source": [
    "calc_rect_area(width=3, height=5) # widht = 3, height = 5\n",
    "# output: 15"
   ]
  },
  {
   "cell_type": "code",
   "execution_count": 40,
   "id": "prepared-mongolia",
   "metadata": {},
   "outputs": [
    {
     "data": {
      "text/plain": [
       "15"
      ]
     },
     "execution_count": 40,
     "metadata": {},
     "output_type": "execute_result"
    }
   ],
   "source": [
    "calc_rect_area(height=5, width=3) # width = 3, height = 5\n",
    "# output: 15"
   ]
  },
  {
   "cell_type": "code",
   "execution_count": 41,
   "id": "regulation-catalog",
   "metadata": {},
   "outputs": [
    {
     "data": {
      "text/plain": [
       "15"
      ]
     },
     "execution_count": 41,
     "metadata": {},
     "output_type": "execute_result"
    }
   ],
   "source": [
    "calc_rect_area(3, height=5) # width = 3, height = 5\n",
    "# output: 15"
   ]
  },
  {
   "cell_type": "markdown",
   "id": "local-development",
   "metadata": {},
   "source": [
    "Nella prima chiamata entrambi gli argomenti vengono passati per posizione, quindi il primo valore (3) viene assegnato al primo parametro della funzione (cioè width) e il secondo valore (5) viene assegnato al secondo parametro (cioè height).\n",
    "\n",
    "Nella seconda e terza chiamata gli argomenti vengono passati per nome, usando width=3 e height=5, ottenendo il medesimo risultato. Quando gli argomenti vengono passati per nome, l'ordine non è importante.\n",
    "\n",
    "Nella quarta e ultima chiamata, possiamo vedere che è anche possibile passare alcuni argomenti per posizione e altri per nome, a patto che gli argomenti passati per posizione precedano quelli passati per nome.\n",
    "\n",
    "Esistono infine altre due forme per passare argomenti:"
   ]
  },
  {
   "cell_type": "code",
   "execution_count": 42,
   "id": "wireless-prime",
   "metadata": {},
   "outputs": [
    {
     "data": {
      "text/plain": [
       "15"
      ]
     },
     "execution_count": 42,
     "metadata": {},
     "output_type": "execute_result"
    }
   ],
   "source": [
    "size = (3, 5)\n",
    "calc_rect_area(*size)\n",
    "# output: 15"
   ]
  },
  {
   "cell_type": "code",
   "execution_count": 43,
   "id": "accurate-douglas",
   "metadata": {},
   "outputs": [
    {
     "data": {
      "text/plain": [
       "15"
      ]
     },
     "execution_count": 43,
     "metadata": {},
     "output_type": "execute_result"
    }
   ],
   "source": [
    "size = {'width': 3, 'height': 5}\n",
    "calc_rect_area(**size)\n",
    "# output: 15"
   ]
  },
  {
   "cell_type": "markdown",
   "id": "angry-admission",
   "metadata": {},
   "source": [
    "Nel primo esempio gli argomenti sono contenuti in una sequenza (una tupla in questo caso). Ponendo una * di fronte all'argomento durante la chiamata, ogni elemento della sequenza viene passato separatamente e associato al parametro corrispondente della funzione. Il funzionamento del secondo esempio è simile, ma invece di una sequenza abbiamo un dizionario, che richiede due ** di fronte all'argomento durante la chiamata per poter associare ogni elemento al parametro corrispondente. In entrambi i casi il numero (e il nome) dei valori passati alla funzione deve corrispondere al numero di parametri accettati dalla funzione."
   ]
  },
  {
   "cell_type": "markdown",
   "id": "western-scope",
   "metadata": {},
   "source": [
    "## Definizione di parametri nelle funzioni\n",
    "\n",
    "Ora che conosciamo i diversi modi per passare argomenti, vediamo diversi esempi che mostrano come definire i parametri di una funzione."
   ]
  },
  {
   "cell_type": "code",
   "execution_count": 44,
   "id": "executive-nudist",
   "metadata": {},
   "outputs": [],
   "source": [
    "# definizione di una funzione con 0 parametri, \n",
    "# quindi questa funzione non può accettare nessun argomento\n",
    "def say_hello():\n",
    "    print('Hello World!')"
   ]
  },
  {
   "cell_type": "code",
   "execution_count": 45,
   "id": "correct-worse",
   "metadata": {},
   "outputs": [],
   "source": [
    "def say_hello(name):\n",
    "    print('Hello {}!'.format(name))"
   ]
  },
  {
   "cell_type": "code",
   "execution_count": 46,
   "id": "breathing-three",
   "metadata": {},
   "outputs": [
    {
     "ename": "TypeError",
     "evalue": "say_hello() missing 1 required positional argument: 'name'",
     "output_type": "error",
     "traceback": [
      "\u001b[1;31m---------------------------------------------------------------------------\u001b[0m",
      "\u001b[1;31mTypeError\u001b[0m                                 Traceback (most recent call last)",
      "\u001b[1;32m<ipython-input-46-9e6e5bb4bfe1>\u001b[0m in \u001b[0;36m<module>\u001b[1;34m\u001b[0m\n\u001b[1;32m----> 1\u001b[1;33m \u001b[0msay_hello\u001b[0m\u001b[1;33m(\u001b[0m\u001b[1;33m)\u001b[0m \u001b[1;31m# TypeError: say_hello() missing 1 required positional argument: 'name'\u001b[0m\u001b[1;33m\u001b[0m\u001b[1;33m\u001b[0m\u001b[0m\n\u001b[0m",
      "\u001b[1;31mTypeError\u001b[0m: say_hello() missing 1 required positional argument: 'name'"
     ]
    }
   ],
   "source": [
    "say_hello() # TypeError: say_hello() missing 1 required positional argument: 'name'"
   ]
  },
  {
   "cell_type": "code",
   "execution_count": 47,
   "id": "according-exhibition",
   "metadata": {},
   "outputs": [
    {
     "name": "stdout",
     "output_type": "stream",
     "text": [
      "Hello Python!\n"
     ]
    }
   ],
   "source": [
    "say_hello('Python') # output: Hello Python!"
   ]
  },
  {
   "cell_type": "code",
   "execution_count": 48,
   "id": "romantic-construction",
   "metadata": {},
   "outputs": [
    {
     "name": "stdout",
     "output_type": "stream",
     "text": [
      "Hello Python!\n"
     ]
    }
   ],
   "source": [
    "say_hello(name='Python') # output: Hello Python!"
   ]
  },
  {
   "cell_type": "markdown",
   "id": "cross-riverside",
   "metadata": {},
   "source": [
    "In questo esempio abbiamo aggiunto un parametro name alla funzione, che viene usato nel messaggio stampato dalla funzione print(). Se proviamo a chiamare la funzione con 0 argomenti o con più di un argomento, riceviamo un TypeError, perché il numero di argomenti passati deve corrispondere a quello dei parametri definiti. Possiamo vedere come sia possibile chiamare la funzione passando un singolo argomento, sia per posizione che per nome."
   ]
  },
  {
   "cell_type": "code",
   "execution_count": 49,
   "id": "complimentary-recruitment",
   "metadata": {},
   "outputs": [],
   "source": [
    "def say_hello(name='World'):\n",
    "    print('Hello {}!'.format(name))"
   ]
  },
  {
   "cell_type": "code",
   "execution_count": 50,
   "id": "czech-edward",
   "metadata": {},
   "outputs": [
    {
     "name": "stdout",
     "output_type": "stream",
     "text": [
      "Hello World!\n"
     ]
    }
   ],
   "source": [
    "say_hello() # output: Hello World!"
   ]
  },
  {
   "cell_type": "code",
   "execution_count": 51,
   "id": "restricted-miracle",
   "metadata": {},
   "outputs": [
    {
     "name": "stdout",
     "output_type": "stream",
     "text": [
      "Hello Python!\n"
     ]
    }
   ],
   "source": [
    "say_hello('Python') # output: Hello Python!"
   ]
  },
  {
   "cell_type": "markdown",
   "id": "animal-layout",
   "metadata": {},
   "source": [
    "In questo esempio abbiamo invece aggiunto un valore di default per il name, usando name='World'. Questo rende l'argomento corrispondente a name opzionale: se non viene passato, il valore di name sarà 'World', altrimenti sarà il valore passato come argomento."
   ]
  },
  {
   "cell_type": "code",
   "execution_count": 52,
   "id": "saved-restriction",
   "metadata": {},
   "outputs": [],
   "source": [
    "def greet(greeting, *, name):\n",
    "    print('{} {}!'.format(greeting, name))"
   ]
  },
  {
   "cell_type": "code",
   "execution_count": 53,
   "id": "enabling-pipeline",
   "metadata": {},
   "outputs": [
    {
     "ename": "TypeError",
     "evalue": "greet() takes 1 positional argument but 2 were given",
     "output_type": "error",
     "traceback": [
      "\u001b[1;31m---------------------------------------------------------------------------\u001b[0m",
      "\u001b[1;31mTypeError\u001b[0m                                 Traceback (most recent call last)",
      "\u001b[1;32m<ipython-input-53-2734943ead83>\u001b[0m in \u001b[0;36m<module>\u001b[1;34m\u001b[0m\n\u001b[1;32m----> 1\u001b[1;33m \u001b[0mgreet\u001b[0m\u001b[1;33m(\u001b[0m\u001b[1;34m'Hello'\u001b[0m\u001b[1;33m,\u001b[0m \u001b[1;34m'Python'\u001b[0m\u001b[1;33m)\u001b[0m \u001b[1;31m# TypeError: greet() takes 1 positional argument but 2 were given\u001b[0m\u001b[1;33m\u001b[0m\u001b[1;33m\u001b[0m\u001b[0m\n\u001b[0m",
      "\u001b[1;31mTypeError\u001b[0m: greet() takes 1 positional argument but 2 were given"
     ]
    }
   ],
   "source": [
    "greet('Hello', 'Python') # TypeError: greet() takes 1 positional argument but 2 were given"
   ]
  },
  {
   "cell_type": "code",
   "execution_count": 54,
   "id": "younger-illness",
   "metadata": {},
   "outputs": [
    {
     "name": "stdout",
     "output_type": "stream",
     "text": [
      "Hello Python!\n"
     ]
    }
   ],
   "source": [
    "greet('Hello', name='Python') # output: Hello Python!"
   ]
  },
  {
   "cell_type": "markdown",
   "id": "mighty-climate",
   "metadata": {},
   "source": [
    "Se vogliamo fare in modo che una funzioni accetti solo argomenti passati per nome, possiamo usare una singola * seguita da virgola. Tutti gli argomenti che appaiono dopo la * dovranno essere passati per nome.\n",
    "\n",
    "La * immediatamente prima del nome di un parametro (ad esempio \\*names) ha invece un significato diverso: permette alla funzione di accettare un numero variabile di argomenti posizionali. In seguito alla chiamata, la variabile names si riferisce a una tupla che contiene tutti gli argomenti. In questo esempio potete vedere che la funzione può essere chiamata sia con 1 che con 4 argomenti posizionali."
   ]
  },
  {
   "cell_type": "code",
   "execution_count": 55,
   "id": "purple-recognition",
   "metadata": {},
   "outputs": [],
   "source": [
    "def say_hello(*names):\n",
    "    print('Hello {}!'.format(', '.join(names)))"
   ]
  },
  {
   "cell_type": "code",
   "execution_count": 56,
   "id": "attempted-hearing",
   "metadata": {},
   "outputs": [
    {
     "name": "stdout",
     "output_type": "stream",
     "text": [
      "Hello Python!\n"
     ]
    }
   ],
   "source": [
    "say_hello('Python') # output: Hello Python!"
   ]
  },
  {
   "cell_type": "code",
   "execution_count": 57,
   "id": "light-corps",
   "metadata": {},
   "outputs": [
    {
     "name": "stdout",
     "output_type": "stream",
     "text": [
      "Hello Python, PyPy, Jython, IronPython!\n"
     ]
    }
   ],
   "source": [
    "say_hello('Python', 'PyPy', 'Jython', 'IronPython') # output: Hello Python, PyPy, Jython, IronPython!"
   ]
  },
  {
   "cell_type": "markdown",
   "id": "respective-transmission",
   "metadata": {},
   "source": [
    "È anche possibile definire una funzione che accetta un numero variabile di argomenti passati per nome (anche noti come keyword argument): basta aggiungere ** immediatamente prima del nome di un parametro (ad esempio **attrs)."
   ]
  },
  {
   "cell_type": "markdown",
   "id": "dressed-olive",
   "metadata": {},
   "source": [
    "## Ritorno di valori"
   ]
  },
  {
   "cell_type": "markdown",
   "id": "naughty-hierarchy",
   "metadata": {},
   "source": [
    "La parola chiave return viene usata per restituire un valore al chiamante, che può assegnarlo a una variabile o utilizzarlo per altre operazioni:"
   ]
  },
  {
   "cell_type": "code",
   "execution_count": 58,
   "id": "lyric-yemen",
   "metadata": {},
   "outputs": [],
   "source": [
    "def square(n):\n",
    "    return n**2"
   ]
  },
  {
   "cell_type": "code",
   "execution_count": 59,
   "id": "chronic-commerce",
   "metadata": {},
   "outputs": [
    {
     "name": "stdout",
     "output_type": "stream",
     "text": [
      "25\n"
     ]
    }
   ],
   "source": [
    "x = square(5)\n",
    "print(x) # output: 25"
   ]
  },
  {
   "cell_type": "code",
   "execution_count": 60,
   "id": "known-japan",
   "metadata": {},
   "outputs": [
    {
     "data": {
      "text/plain": [
       "625"
      ]
     },
     "execution_count": 60,
     "metadata": {},
     "output_type": "execute_result"
    }
   ],
   "source": [
    "square(square(5)) # output: 625"
   ]
  },
  {
   "cell_type": "markdown",
   "id": "english-surge",
   "metadata": {},
   "source": [
    "Una funzione può contenere 0 o più return, e una volta che un return viene eseguito, la funzione termina immediatamente. Questo vuol dire che solo uno dei return viene eseguito ad ogni chiamata:"
   ]
  },
  {
   "cell_type": "code",
   "execution_count": 61,
   "id": "binding-sodium",
   "metadata": {},
   "outputs": [],
   "source": [
    "def abs(n):\n",
    "    if n < 0:\n",
    "        return -n\n",
    "    return n"
   ]
  },
  {
   "cell_type": "code",
   "execution_count": 62,
   "id": "weekly-sacramento",
   "metadata": {},
   "outputs": [
    {
     "data": {
      "text/plain": [
       "5"
      ]
     },
     "execution_count": 62,
     "metadata": {},
     "output_type": "execute_result"
    }
   ],
   "source": [
    "abs(5) # output: 5"
   ]
  },
  {
   "cell_type": "code",
   "execution_count": 63,
   "id": "scheduled-california",
   "metadata": {},
   "outputs": [
    {
     "data": {
      "text/plain": [
       "5"
      ]
     },
     "execution_count": 63,
     "metadata": {},
     "output_type": "execute_result"
    }
   ],
   "source": [
    "abs(-5) # output: 5"
   ]
  },
  {
   "cell_type": "markdown",
   "id": "right-health",
   "metadata": {},
   "source": [
    "return è in genere seguito dal valore di ritorno, ma è anche possibile omettere il valore e usare return per terminare la funzione: in questo caso None viene ritornato automaticamente. Se si raggiunge il termine della funzione senza incontrare neanche un return, None viene restituito automaticamente.\n",
    "\n",
    "Nel caso sia necessario ritornare più valori, è possibile fare:"
   ]
  },
  {
   "cell_type": "code",
   "execution_count": 64,
   "id": "seventh-imaging",
   "metadata": {},
   "outputs": [],
   "source": [
    "def midpoint(x1, y1, x2, y2):\n",
    "    \"\"\"Return the midpoint between (x1; y1) and (x2; y2).\"\"\"\n",
    "    xm = (x1 + x2) / 2\n",
    "    ym = (y1 + y2) / 2\n",
    "    return xm, ym"
   ]
  },
  {
   "cell_type": "code",
   "execution_count": 65,
   "id": "departmental-configuration",
   "metadata": {},
   "outputs": [
    {
     "name": "stdout",
     "output_type": "stream",
     "text": [
      "5.0\n",
      "8.0\n"
     ]
    }
   ],
   "source": [
    "x, y = midpoint (2, 4, 8, 12)\n",
    "print(x) # 5.0\n",
    "print(y) # 8.0"
   ]
  },
  {
   "cell_type": "markdown",
   "id": "healthy-surface",
   "metadata": {},
   "source": [
    "In questo caso il valore ritornato è sempre uno: una singola tupla di 2 elementi. Python supporta un'operazione chiamata unpacking, che ci permette di assegnare contemporaneamente diversi valori a più variabili, permettendo quindi operazioni come la seguente:"
   ]
  },
  {
   "cell_type": "code",
   "execution_count": 66,
   "id": "lonely-tribune",
   "metadata": {},
   "outputs": [],
   "source": [
    "x, y = midpoint(2, 4, 8, 12)"
   ]
  },
  {
   "cell_type": "markdown",
   "id": "vocational-california",
   "metadata": {},
   "source": [
    "In tal modo possiamo assegnare il primo valore della tupla a x e il secondo a y."
   ]
  },
  {
   "cell_type": "markdown",
   "id": "little-vector",
   "metadata": {},
   "source": [
    "## Scope delle variabili"
   ]
  },
  {
   "cell_type": "markdown",
   "id": "starting-referral",
   "metadata": {},
   "source": [
    "Tutti i parametri e le variabili create all'interno di una funzione, sono locali alla funzione, cioè possono essere usate solo da codice che si trova all'interno della funzione. Se proviamo ad accedere a queste variabili dall'esterno della funzione otteniamo un NameError:"
   ]
  },
  {
   "cell_type": "code",
   "execution_count": 67,
   "id": "political-distributor",
   "metadata": {},
   "outputs": [],
   "source": [
    "def calc_circle_area(r):\n",
    "    pi = 3.14\n",
    "    return pi * r**2"
   ]
  },
  {
   "cell_type": "code",
   "execution_count": 68,
   "id": "first-flower",
   "metadata": {},
   "outputs": [
    {
     "data": {
      "text/plain": [
       "78.5"
      ]
     },
     "execution_count": 68,
     "metadata": {},
     "output_type": "execute_result"
    }
   ],
   "source": [
    "calc_circle_area(5) # output: 78.5"
   ]
  },
  {
   "cell_type": "code",
   "execution_count": 69,
   "id": "polyphonic-continent",
   "metadata": {},
   "outputs": [
    {
     "ename": "NameError",
     "evalue": "name 'r' is not defined",
     "output_type": "error",
     "traceback": [
      "\u001b[1;31m---------------------------------------------------------------------------\u001b[0m",
      "\u001b[1;31mNameError\u001b[0m                                 Traceback (most recent call last)",
      "\u001b[1;32m<ipython-input-69-2162a6d0908d>\u001b[0m in \u001b[0;36m<module>\u001b[1;34m\u001b[0m\n\u001b[1;32m----> 1\u001b[1;33m \u001b[0mr\u001b[0m \u001b[1;31m# output: NameError: name 'r' is not defined\u001b[0m\u001b[1;33m\u001b[0m\u001b[1;33m\u001b[0m\u001b[0m\n\u001b[0m",
      "\u001b[1;31mNameError\u001b[0m: name 'r' is not defined"
     ]
    }
   ],
   "source": [
    "r # output: NameError: name 'r' is not defined"
   ]
  },
  {
   "cell_type": "markdown",
   "id": "formed-deficit",
   "metadata": {},
   "source": [
    "Le funzioni possono però accedere in lettura a valori globali, cioè definiti fuori dalla funzione. Tuttavia è sconsigliato.  \n",
    "Un esempio:"
   ]
  },
  {
   "cell_type": "code",
   "execution_count": 70,
   "id": "coordinate-register",
   "metadata": {},
   "outputs": [],
   "source": [
    "# creo pi fuori dalla funzione\n",
    "pi = 3.14\n",
    "\n",
    "def calc_circle_area(r):\n",
    "    # uso pi dentro alla funzione\n",
    "    return pi * r**2"
   ]
  },
  {
   "cell_type": "code",
   "execution_count": 71,
   "id": "american-fleece",
   "metadata": {},
   "outputs": [
    {
     "data": {
      "text/plain": [
       "78.5"
      ]
     },
     "execution_count": 71,
     "metadata": {},
     "output_type": "execute_result"
    }
   ],
   "source": [
    "calc_circle_area(5) # output: 78.5"
   ]
  },
  {
   "cell_type": "markdown",
   "id": "elder-pontiac",
   "metadata": {},
   "source": [
    "Python segue una semplice regola di risoluzione dei nomi:\n",
    "\n",
    "1. prima verifica se il nome esiste nel namespace locale;\n",
    "2. se non esiste lo cerca nel namespace globale;\n",
    "3. se non esiste neanche nel namespace globale, lo cerca tra gli oggetti builtin.\n",
    "\n",
    "Se un nome non è presente neanche tra gli oggetti builtin, Python restituisce un NameError."
   ]
  },
  {
   "cell_type": "markdown",
   "id": "outstanding-exhibit",
   "metadata": {},
   "source": [
    "# Gestire i file"
   ]
  },
  {
   "cell_type": "markdown",
   "id": "special-request",
   "metadata": {},
   "source": [
    "Per permetterci di interagire con il filesystem, Python ci fornisce la funzione built-in open(). Questa funzione può essere invocata per aprire un file e ritorna un file object. Quest'ultimo ci permette di eseguire diverse operazioni sul file, come ad esempio la lettura e la scrittura. Quando abbiamo finito di interagire con il file, dobbiamo infine ricordarci di chiuderlo, usando il metodo file.close()."
   ]
  },
  {
   "cell_type": "markdown",
   "id": "based-alabama",
   "metadata": {},
   "source": [
    "## La funzione open"
   ]
  },
  {
   "cell_type": "markdown",
   "id": "compliant-trunk",
   "metadata": {},
   "source": [
    "La funzione open() accetta diversi argomenti ma i due argomenti più importanti sono il nome del file che vogliamo aprire, e il modo di apertura.\n",
    "\n",
    "Il nome del file deve essere una stringa che rappresenta un percorso in grado di identificare la posizione del file nel filesystem. Il percorso può essere relativo alla directory corrente (ad esempio 'file.txt', 'subdir/file.txt', '../file.txt', ecc.) o assoluto (ad esempio '/home/ezio/file.txt').\n",
    "\n",
    "Il modo è opzionale, e il suo valore di default è la stringa 'r', cioè read (lettura). Questo vuol dire che se non specifichiamo il modo, Python aprirà il file in lettura. Se invece vogliamo poter scrivere sul file, possiamo specificare come modo la stringa 'w', cioè write (scrittura). Quando apriamo un file in scrittura, specificando quindi il modo 'w', possono succedere due cose: se il file non esiste, viene creato al percorso specificato; se esiste, il contenuto del file viene eliminato."
   ]
  },
  {
   "cell_type": "code",
   "execution_count": 72,
   "id": "complicated-wellington",
   "metadata": {},
   "outputs": [
    {
     "data": {
      "text/plain": [
       "<_io.TextIOWrapper name='text.txt' mode='r' encoding='cp1252'>"
      ]
     },
     "execution_count": 72,
     "metadata": {},
     "output_type": "execute_result"
    }
   ],
   "source": [
    "open('text.txt') # il file non esiste, quindi Python dà errore FileNotFound\n",
    "# output: FileNotFoundError: [Errno 2] No such file or directory: 'text.txt'"
   ]
  },
  {
   "cell_type": "code",
   "execution_count": 73,
   "id": "coordinate-august",
   "metadata": {},
   "outputs": [
    {
     "data": {
      "text/plain": [
       "<_io.TextIOWrapper name='text.txt' mode='w' encoding='cp1252'>"
      ]
     },
     "execution_count": 73,
     "metadata": {},
     "output_type": "execute_result"
    }
   ],
   "source": [
    "open('text.txt', 'w') # il file non esiste, ma viene aperto in scrittura quindi il file viene creato"
   ]
  },
  {
   "cell_type": "markdown",
   "id": "thousand-oxide",
   "metadata": {},
   "source": [
    "Se vogliamo continuare ad aggiungere contenuto alla fine di un file, senza cancellare il contenuto esistente, possiamo usare la stringa 'a' (append) come modo. Le stringhe 'r+' e 'w+' ci permettono di leggere e scrivere contemporaneamente (come 'w', anche 'w+' elimina il contenuto del file). Il modo 'x' (creazione esclusiva) crea e apre un nuovo file in scrittura, restituendo un errore (FileExistsError) se il file esiste già."
   ]
  },
  {
   "cell_type": "markdown",
   "id": "elegant-contest",
   "metadata": {},
   "source": [
    "| Modalità | Descrizione |\n",
    "| --- | --- |\n",
    "|'r'|\tApre un file di testo in lettura. Modo di apertura di default dei file.|\n",
    "|'w'|\tApre un file di testo in scrittura. Se il file non esiste lo crea, altrimenti cancella il contenuto del file.|\n",
    "|'a'|\tApre un file di testo in append. Il contenuto viene scritto alla fine del file, senza modificare il contenuto esistente.|\n",
    "|'x'|\tApre un file di testo in creazione esclusiva. Se il file non esiste, restituisce un errore, altrimenti apre in scrittura cancellando il contenuto del file.|\n",
    "|'r+'|\tApre un file di testo in modifica. Permette di leggere e scrivere contemporaneamente.|\n",
    "|'w+'|\tApre un file di testo in modifica. Permette di leggere e scrivere contemporaneamente. Cancella il contenuto del file.|"
   ]
  },
  {
   "cell_type": "markdown",
   "id": "united-rapid",
   "metadata": {},
   "source": [
    "Di default, questi modi vengono usati per aprire file testuali, e sono quindi equivalenti a 'rt', 'wt', 'at', 'xt', 'r+t', e 'w+t'. Se invece vogliamo lavorare con file binari, è possibile aggiungere una 'b' per specificare il modo binario, usando quindi 'rb', 'wb', 'ab', 'xb', 'r+b', e 'w+b'."
   ]
  },
  {
   "cell_type": "markdown",
   "id": "assured-senate",
   "metadata": {},
   "source": [
    "## I file object\n",
    "\n",
    "Ora che abbiamo visto i diversi modi di invocare la funzione open(), vediamo come possiamo interagire con i file object che restituisce.\n",
    "\n",
    "I file object hanno diversi attributi e metodi:"
   ]
  },
  {
   "cell_type": "code",
   "execution_count": 74,
   "id": "nuclear-capital",
   "metadata": {},
   "outputs": [
    {
     "data": {
      "text/plain": [
       "<function TextIOWrapper.close()>"
      ]
     },
     "execution_count": 74,
     "metadata": {},
     "output_type": "execute_result"
    }
   ],
   "source": [
    "f = open('test.txt', 'w')  # apriamo il file test.txt in scrittura\n",
    "f  # open() ci restituisce un file object\n",
    "dir(f)  # possiamo usare dir() per vedere l'elenco di attributi e metodi\n",
    "f.name  # l'attributo .name corrisponde al nome del file\n",
    "# 'test.txt'\n",
    "f.mode  # l'attributo .mode corrisponde al modo di apertura\n",
    "# 'w'\n",
    "f.closed  # l'attributo .closed è True se il file è stato chiuso, altrimenti False\n",
    "# False\n",
    "f.read   # read è un metodo che, quando chiamato, legge e ritorna il contenuto\n",
    "f.readline # readline legge e ritorna una singola riga del file\n",
    "f.readlines # readlines legge e restituisce una lista di righe del file\n",
    "f.write  # write è un metodo che, quando chiamato, ci consente di scrivere nel file\n",
    "f.writelines # writelines scrive più righe nel file\n",
    "f.close  # close è un metodo che, quando chiamato, chiude il file,"
   ]
  },
  {
   "cell_type": "code",
   "execution_count": 75,
   "id": "earned-consortium",
   "metadata": {},
   "outputs": [
    {
     "name": "stdout",
     "output_type": "stream",
     "text": [
      "prima riga del file\n",
      "seconda riga del file\n",
      "\n"
     ]
    }
   ],
   "source": [
    "# ad esempio\n",
    "f = open('test.txt', 'w') # apriamo il file test.txt in scrittura\n",
    "f.write('prima riga del file\\n') # scriviamo una riga nel file\n",
    "f.write('seconda riga del file\\n') # scriviamo un'altra riga nel file\n",
    "f.close() # chiudiamo il file\n",
    "f = open('test.txt') # riapriamo il file in sola lettura\n",
    "content = f.read() # leggiamo tutto il contenuto del file\n",
    "print(content)\n",
    "f.close() # chiudiamo il file\n",
    "\n",
    "# output: \n",
    "# prima riga del file\n",
    "# seconda riga del file"
   ]
  },
  {
   "cell_type": "markdown",
   "id": "cellular-garden",
   "metadata": {},
   "source": [
    "I metodi file.read() e file.write() ci permettono di leggere e scrivere in un file. Il metodo file.read() restituisce tutto il contenuto di un file come stringa (o byte string), ma è anche possibile passare come argomento un numero specifico di caratteri (o bytes). Il metodo file.write() ci permette di aggiungere del contenuto al file e restituisce il numero di caratteri (o byte) scritti. In entrambi i casi è importante ricordarsi di chiudere il file usando il metodo file.close()."
   ]
  },
  {
   "cell_type": "code",
   "execution_count": 76,
   "id": "therapeutic-payment",
   "metadata": {
    "scrolled": true
   },
   "outputs": [
    {
     "name": "stdout",
     "output_type": "stream",
     "text": [
      "['prima riga del file\\n', 'seconda riga del file\\n', 'terza riga del file\\n']\n",
      "----------\n",
      "prima riga del file\n",
      "\n",
      "seconda riga del file\n",
      "\n",
      "terza riga del file\n",
      "\n",
      "\n",
      "----------\n",
      "prima riga del file\n",
      "\n",
      "seconda riga del file\n",
      "\n",
      "terza riga del file\n",
      "\n"
     ]
    }
   ],
   "source": [
    "# definiamo una lista di righe\n",
    "lines = [\n",
    "    'prima riga del file\\n',\n",
    "    'seconda riga del file\\n',\n",
    "    'terza riga del file\\n',\n",
    "]\n",
    "f = open('test.txt', 'w')  # apriamo il file in scrittura\n",
    "f.writelines(lines)  # usiamo il metodo writelines per scrivere le righe nel file\n",
    "f.close()  # chiudiamo il file\n",
    "f = open('test.txt')  # riapriamo il file in lettura\n",
    "print(f.readlines())  # usiamo il metodo readlines per ottenere una lista di righe del file\n",
    "# ['prima riga del file\\n', 'seconda riga del file\\n', 'terza riga del file\\n']\n",
    "f.close()  # chiudiamo il file\n",
    "\n",
    "print('----------')\n",
    "\n",
    "f = open('test.txt')  # riapriamo il file in lettura\n",
    "print(f.readline())  # usiamo il metodo readline per ottenere una singola riga del file\n",
    "# 'prima riga del file\\n'\n",
    "print(f.readline())  # usiamo il metodo readline per ottenere una singola riga del file\n",
    "# 'seconda riga del file\\n'\n",
    "print(f.readline())  # usiamo il metodo readline per ottenere una singola riga del file\n",
    "# 'terza riga del file\\n'\n",
    "print(f.readline())  # quando abbiamo letto tutto, il metodo restituisce una stringa vuota\n",
    "# ''\n",
    "f.close()  # chiudiamo il file\n",
    "\n",
    "print('----------')\n",
    "\n",
    "# È possibile utilizzare un for per iterare sulle righe di un file:\n",
    "f = open('test.txt')  # riapriamo il file in lettura\n",
    "for line in f:  # iteriamo sulle righe del file\n",
    "    print(line)\n",
    "# 'prima riga del file\\n'\n",
    "# 'seconda riga del file\\n'\n",
    "# 'terza riga del file\\n'\n",
    "f.close()  # chiudiamo il file\n",
    "\n",
    "# output:\n",
    "# ['prima riga del file\\n', 'seconda riga del file\\n', 'terza riga del file\\n']\n",
    "# ----------\n",
    "# prima riga del file\n",
    "# \n",
    "# seconda riga del file\n",
    "# \n",
    "# terza riga del file\n",
    "# \n",
    "# \n",
    "# ----------\n",
    "# prima riga del file\n",
    "# \n",
    "# seconda riga del file\n",
    "# \n",
    "# terza riga del file"
   ]
  },
  {
   "cell_type": "markdown",
   "id": "introductory-birth",
   "metadata": {},
   "source": [
    "I metodi file.readlines() e file.writelines() possono essere usati per leggere e scrivere una lista di righe in un file. Il metodo file.readline() ci permette di leggere una singola riga del file. Se vogliamo leggere il contenuto di un file riga per riga, possiamo semplicemente iterare sul file object usando un ciclo for.\n",
    "\n",
    "In questo esempio possiamo anche notare che quando abbiamo chiamato ripetutamente il metodo file.readline(), abbiamo ottenuto righe consecutive, invece che ottenere 3 volte la prima riga. Ogni file object memorizza la posizione raggiunta durante la lettura e/o scrittura, e ogni operazione successiva riprende dallo stesso punto. Se eseguiamo letture successive, ogni lettura riprenderà dalla posizione memorizzata al termine della lettura precedente. Quando viene raggiunta la fine del file, le operazioni di lettura restituiscono una stringa vuota. "
   ]
  },
  {
   "cell_type": "markdown",
   "id": "filled-reader",
   "metadata": {},
   "source": [
    "Tabella riassuntiva dei metodi comuni ai file object:\n",
    "\n",
    "| Metodo | Descrizione |\n",
    "| --- | --- |\n",
    "|file.read()|\tLegge e restituisce l'intero contenuto del file come una singola stringa.|\n",
    "|file.read(n)|\tLegge e restituisce n caratteri (o byte).|\n",
    "|file.readline()|\tLegge e restituisce una riga del file.|\n",
    "|file.readlines()|\tLegge e restuisce l'intero contenuto del file come lista di righe (stringhe).|\n",
    "|file.write(s)|\tScrive nel file la stringa s e ritorna il numero di caratteri (o byte) scritti.|\n",
    "|file.writelines(lines)|\tScrive nel file la lista in righe lines.|\n",
    "|file.tell()|\tRestituisce la posizione corrente memorizzata dal file object.|\n",
    "|file.seek(offset, pos)|\tModifica la posizione corrente memorizzata dal file object.|\n",
    "|file.close()|\tChiude il file.|"
   ]
  },
  {
   "cell_type": "markdown",
   "id": "wrapped-activation",
   "metadata": {},
   "source": [
    "## Il costrutto _with_\n",
    "\n",
    "Abbiamo visto negli esempi precedenti, che ogni volta che apriamo un file è anche necessario invocare il metodo file.close() per chiuderlo. Così facendo, non solo siamo costretti a ripetere la chiusura ogni volta, ma corriamo anche il rischio di dimenticarcene. Inoltre, se il programma viene interrotto a causa di un'eccezione, il file.close() potrebbe non essere mai chiamato.\n",
    "\n",
    "Per risolvere questi (e altri) problemi, in Python esiste il costrutto with. Questo costrutto può essere usato con dei context manager (manager di contesti), cioè degli oggetti particolari che specificano delle operazioni che vanno eseguite all'entrata e all'uscita del contesto. I file object supportano il protocollo dei context manager, e possono quindi essere usati con il with. Vediamo un esempio pratico:"
   ]
  },
  {
   "cell_type": "code",
   "execution_count": 77,
   "id": "constitutional-fantasy",
   "metadata": {},
   "outputs": [
    {
     "name": "stdout",
     "output_type": "stream",
     "text": [
      "False\n",
      "True\n"
     ]
    }
   ],
   "source": [
    "f = open('test.txt', 'w') # creiamo il file object\n",
    "with f: # usiamo il file object come context manager nel with\n",
    "    f.write('contenuto del file') # scriviamo il file\n",
    "    print(f.closed) # verifichiamo che il file è ancora aperto\n",
    "\n",
    "print(f.closed) # verifichiamo che dopo il with il file è chiuso\n",
    "\n",
    "# output:\n",
    "# False\n",
    "# True"
   ]
  },
  {
   "cell_type": "markdown",
   "id": "smooth-uzbekistan",
   "metadata": {},
   "source": [
    "Nell'esempio possiamo notare che:\n",
    "\n",
    "- La parola chiave with è seguita da un oggetto che supporta il protocollo dei context manager (in questo caso il file object f).\n",
    "- Dopo l'oggetto ci sono i due punti (:) e un blocco di codice indentato.\n",
    "- Prima di eseguire il blocco di codice indentato, il metodo speciale f.__enter__() viene chiamato (nel caso dei file non fa niente).\n",
    "- Il blocco di codice viene eseguito: all'interno del blocco il file è aperto e quindi possiamo scrivere sul file.\n",
    "- Una volta eseguito il blocco di codice indentato, il metodo speciale f.__exit__() viene chiamato (nel caso dei file chiude il file).\n",
    "- Una volta terminato il with verifichiamo che il file è stato chiuso automaticamente (da f.__exit__()).\n",
    "\n",
    "In altre parole, usando il with con i file object non dobbiamo più preoccuparci di chiudere il file. Esiste anche una forma più concisa per ottenere lo stesso risultato:"
   ]
  },
  {
   "cell_type": "code",
   "execution_count": 78,
   "id": "tutorial-happiness",
   "metadata": {},
   "outputs": [],
   "source": [
    "with open('test.txt', 'w') as f:\n",
    "    f.write('contenuto del file')"
   ]
  },
  {
   "cell_type": "markdown",
   "id": "heated-toronto",
   "metadata": {},
   "source": [
    "Questa forma del with ci permette di creare l'oggetto direttamente e di assegnargli un nome dopo la keyword as. Anche in questo caso, il with chiamerà automaticamente f.__exit__() che a sua volta chiamerà f.close() e chiuderà il file automaticamente.\n",
    "\n",
    "Il with ci garantisce la chiusura del file anche nel caso in cui il programma venga interrotto da un'eccezione, e ci evita di dover ripetere f.close() ogni volta. Il with può inoltre essere usato anche con altri tipi di oggetti che supportano il protocollo dei context manager, ed è anche possibile definire nuovi oggetti di questo tipo."
   ]
  }
 ],
 "metadata": {
  "kernelspec": {
   "display_name": "Python 3",
   "language": "python",
   "name": "python3"
  },
  "language_info": {
   "codemirror_mode": {
    "name": "ipython",
    "version": 3
   },
   "file_extension": ".py",
   "mimetype": "text/x-python",
   "name": "python",
   "nbconvert_exporter": "python",
   "pygments_lexer": "ipython3",
   "version": "3.8.8"
  }
 },
 "nbformat": 4,
 "nbformat_minor": 5
}
